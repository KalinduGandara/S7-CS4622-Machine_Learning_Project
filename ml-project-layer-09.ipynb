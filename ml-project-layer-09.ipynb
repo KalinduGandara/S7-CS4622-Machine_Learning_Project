{
 "cells": [
  {
   "cell_type": "code",
   "execution_count": 1,
   "id": "e20c3adb",
   "metadata": {
    "_cell_guid": "b1076dfc-b9ad-4769-8c92-a6c4dae69d19",
    "_uuid": "8f2839f25d086af736a60e9eeb907d3b93b6e0e5",
    "execution": {
     "iopub.execute_input": "2023-09-24T06:15:45.359106Z",
     "iopub.status.busy": "2023-09-24T06:15:45.358426Z",
     "iopub.status.idle": "2023-09-24T06:15:46.213236Z",
     "shell.execute_reply": "2023-09-24T06:15:46.211670Z"
    },
    "papermill": {
     "duration": 0.861852,
     "end_time": "2023-09-24T06:15:46.215448",
     "exception": false,
     "start_time": "2023-09-24T06:15:45.353596",
     "status": "completed"
    },
    "tags": []
   },
   "outputs": [
    {
     "name": "stdout",
     "output_type": "stream",
     "text": [
      "/kaggle/input/speech-based-classification-layer-9/valid.csv\n",
      "/kaggle/input/speech-based-classification-layer-9/train.csv\n",
      "/kaggle/input/speech-based-classification-layer-9/test.csv\n"
     ]
    }
   ],
   "source": [
    "# This Python 3 environment comes with many helpful analytics libraries installed\n",
    "# It is defined by the kaggle/python Docker image: https://github.com/kaggle/docker-python\n",
    "# For example, here's several helpful packages to load\n",
    "\n",
    "import numpy as np # linear algebra\n",
    "import pandas as pd # data processing, CSV file I/O (e.g. pd.read_csv)\n",
    "\n",
    "# Input data files are available in the read-only \"../input/\" directory\n",
    "# For example, running this (by clicking run or pressing Shift+Enter) will list all files under the input directory\n",
    "\n",
    "import os\n",
    "for dirname, _, filenames in os.walk('/kaggle/input'):\n",
    "    for filename in filenames:\n",
    "        print(os.path.join(dirname, filename))\n",
    "\n",
    "# You can write up to 20GB to the current directory (/kaggle/working/) that gets preserved as output when you create a version using \"Save & Run All\" \n",
    "# You can also write temporary files to /kaggle/temp/, but they won't be saved outside of the current session"
   ]
  },
  {
   "cell_type": "code",
   "execution_count": 2,
   "id": "22c64bdd",
   "metadata": {
    "execution": {
     "iopub.execute_input": "2023-09-24T06:15:46.225162Z",
     "iopub.status.busy": "2023-09-24T06:15:46.224421Z",
     "iopub.status.idle": "2023-09-24T06:15:48.310380Z",
     "shell.execute_reply": "2023-09-24T06:15:48.308917Z"
    },
    "papermill": {
     "duration": 2.092604,
     "end_time": "2023-09-24T06:15:48.312946",
     "exception": false,
     "start_time": "2023-09-24T06:15:46.220342",
     "status": "completed"
    },
    "tags": []
   },
   "outputs": [],
   "source": [
    "import pandas as pd\n",
    "import numpy as np\n",
    "from sklearn.preprocessing import StandardScaler\n",
    "from sklearn.svm import SVC\n",
    "from sklearn.ensemble import RandomForestClassifier\n",
    "from xgboost import XGBClassifier\n",
    "from sklearn.metrics import accuracy_score\n",
    "from sklearn.decomposition import PCA\n",
    "from sklearn.model_selection import RandomizedSearchCV\n",
    "from sklearn.model_selection import StratifiedKFold,cross_val_score\n",
    "from sklearn.linear_model import LogisticRegression\n",
    "from sklearn.naive_bayes import GaussianNB\n",
    "from sklearn.neighbors import KNeighborsClassifier\n",
    "from sklearn.feature_selection import SelectKBest, f_classif\n",
    "from sklearn.utils import class_weight\n",
    "from sklearn.feature_selection import SequentialFeatureSelector"
   ]
  },
  {
   "cell_type": "code",
   "execution_count": 3,
   "id": "b704de51",
   "metadata": {
    "execution": {
     "iopub.execute_input": "2023-09-24T06:15:48.320226Z",
     "iopub.status.busy": "2023-09-24T06:15:48.319830Z",
     "iopub.status.idle": "2023-09-24T06:15:57.480033Z",
     "shell.execute_reply": "2023-09-24T06:15:57.478672Z"
    },
    "papermill": {
     "duration": 9.166795,
     "end_time": "2023-09-24T06:15:57.482468",
     "exception": false,
     "start_time": "2023-09-24T06:15:48.315673",
     "status": "completed"
    },
    "tags": []
   },
   "outputs": [],
   "source": [
    "train_df = pd.read_csv(\"/kaggle/input/speech-based-classification-layer-9/train.csv\")\n",
    "valid_df = pd.read_csv(\"/kaggle/input/speech-based-classification-layer-9/valid.csv\")\n",
    "test_df = pd.read_csv(\"/kaggle/input/speech-based-classification-layer-9/test.csv\")"
   ]
  },
  {
   "cell_type": "code",
   "execution_count": 4,
   "id": "104b7cc4",
   "metadata": {
    "execution": {
     "iopub.execute_input": "2023-09-24T06:15:57.488793Z",
     "iopub.status.busy": "2023-09-24T06:15:57.488417Z",
     "iopub.status.idle": "2023-09-24T06:15:57.493828Z",
     "shell.execute_reply": "2023-09-24T06:15:57.492517Z"
    },
    "papermill": {
     "duration": 0.010866,
     "end_time": "2023-09-24T06:15:57.495834",
     "exception": false,
     "start_time": "2023-09-24T06:15:57.484968",
     "status": "completed"
    },
    "tags": []
   },
   "outputs": [],
   "source": [
    "LABELS = [\"label_1\",\"label_2\",\"label_3\",\"label_4\"]\n",
    "models = {}\n",
    "test_predictions = {}\n",
    "random_searches = {}\n",
    "pcas = {}\n",
    "k_bests = {}"
   ]
  },
  {
   "cell_type": "code",
   "execution_count": 5,
   "id": "9d2212f6",
   "metadata": {
    "execution": {
     "iopub.execute_input": "2023-09-24T06:15:57.502424Z",
     "iopub.status.busy": "2023-09-24T06:15:57.502077Z",
     "iopub.status.idle": "2023-09-24T07:55:07.622630Z",
     "shell.execute_reply": "2023-09-24T07:55:07.621247Z"
    },
    "papermill": {
     "duration": 5950.12671,
     "end_time": "2023-09-24T07:55:07.625154",
     "exception": false,
     "start_time": "2023-09-24T06:15:57.498444",
     "status": "completed"
    },
    "tags": []
   },
   "outputs": [
    {
     "name": "stdout",
     "output_type": "stream",
     "text": [
      "Processing label: label_1\n",
      "Processing label: label_2\n",
      "Processing label: label_3\n",
      "Processing label: label_4\n",
      "Fitting 3 folds for each of 20 candidates, totalling 60 fits\n",
      "[CV] END .................C=1.0, gamma=scale, kernel=sigmoid; total time= 3.9min\n",
      "[CV] END .....................C=0.1, gamma=scale, kernel=rbf; total time= 9.7min\n",
      "[CV] END ....................C=50, gamma=auto, kernel=linear; total time= 8.6min\n",
      "[CV] END .................C=0.1, gamma=scale, kernel=sigmoid; total time= 9.1min\n",
      "[CV] END .................C=0.01, gamma=auto, kernel=sigmoid; total time=12.5min\n",
      "[CV] END ....................C=0.1, gamma=scale, kernel=poly; total time=10.8min\n",
      "[CV] END ......................C=10, gamma=auto, kernel=poly; total time= 2.0min\n",
      "[CV] END ..................C=0.1, gamma=auto, kernel=sigmoid; total time= 7.5min\n",
      "[CV] END ....................C=0.01, gamma=scale, kernel=rbf; total time=14.9min\n",
      "[CV] END ...................C=50, gamma=scale, kernel=linear; total time= 8.8min\n",
      "[CV] END .................C=1.0, gamma=scale, kernel=sigmoid; total time= 3.7min\n",
      "[CV] END ...................C=10, gamma=auto, kernel=sigmoid; total time= 4.5min\n",
      "[CV] END ....................C=50, gamma=auto, kernel=linear; total time= 6.3min\n",
      "[CV] END ....................C=50, gamma=auto, kernel=linear; total time= 5.3min\n",
      "[CV] END ....................C=0.01, gamma=auto, kernel=poly; total time=11.0min\n",
      "[CV] END .................C=0.01, gamma=auto, kernel=sigmoid; total time=12.6min\n",
      "[CV] END .......................C=50, gamma=auto, kernel=rbf; total time= 2.7min\n",
      "[CV] END ....................C=0.1, gamma=scale, kernel=poly; total time=10.8min\n",
      "[CV] END ..................C=0.1, gamma=auto, kernel=sigmoid; total time= 7.6min\n",
      "[CV] END ...................C=10, gamma=scale, kernel=linear; total time= 1.8min\n",
      "[CV] END ...................C=10, gamma=scale, kernel=linear; total time= 2.7min\n",
      "[CV] END ...................C=10, gamma=scale, kernel=linear; total time= 2.4min\n",
      "[CV] END ....................C=1.0, gamma=scale, kernel=poly; total time= 4.7min\n",
      "[CV] END ....................C=1.0, gamma=scale, kernel=poly; total time= 4.1min\n",
      "[CV] END ...................C=0.01, gamma=scale, kernel=poly; total time=11.5min\n",
      "label_4 with param : {'kernel': 'rbf', 'gamma': 'auto', 'C': 50}\n",
      "Validation Accuracy for label_4 : 0.9706666666666667\n"
     ]
    }
   ],
   "source": [
    "# Loop through each label for classification\n",
    "for label in LABELS:\n",
    "    print(f\"Processing label: {label}\")\n",
    "    if label != LABELS[3]:\n",
    "        continue\n",
    "    # Data Pre-processing\n",
    "    # Separate features and labels\n",
    "    train_X = train_df.dropna(subset=[label]).drop(LABELS, axis=1)\n",
    "    train_y = train_df.dropna(subset=[label])[label].astype(int)\n",
    "    valid_X = valid_df.dropna(subset=[label]).drop(LABELS, axis=1)\n",
    "    valid_y = valid_df.dropna(subset=[label])[label].astype(int)\n",
    "\n",
    "    # Compute class weights for handling class imbalance\n",
    "    class_weights = class_weight.compute_class_weight('balanced', classes=np.unique(train_y), y=train_y)\n",
    "    class_weight_dict = {cls: weight for cls, weight in zip(np.unique(train_y), class_weights)}\n",
    "\n",
    "    # Feature Scaling\n",
    "    scaler = StandardScaler()\n",
    "    train_X_scaled = scaler.fit_transform(train_X)\n",
    "    valid_X_scaled = scaler.transform(valid_X)\n",
    "\n",
    "    # Dimensionality Reduction with PCA\n",
    "    pca = PCA(n_components=0.99, svd_solver='full')\n",
    "    train_X_pca = pca.fit_transform(train_X_scaled)\n",
    "    valid_X_pca = pca.transform(valid_X_scaled)\n",
    "\n",
    "    k_best = SelectKBest(score_func=f_classif, k=300)\n",
    "    train_X_selected = k_best.fit_transform(train_X_pca, train_y)\n",
    "    valid_X_selected = k_best.transform(valid_X_pca)\n",
    "\n",
    "#     sfs = SequentialFeatureSelector(\n",
    "#         RandomForestClassifier(class_weight=class_weight_dict),\n",
    "#         scoring='accuracy',\n",
    "#         cv=3\n",
    "#     )\n",
    "\n",
    "#     # Fit the SequentialFeatureSelector on training data\n",
    "#     sfs.fit(train_X_pca, train_y)\n",
    "\n",
    "#     # Get the selected feature indices\n",
    "#     selected_feature_indices = list(sfs.k_feature_idx_)\n",
    "\n",
    "#     # Transform the data to include only selected features\n",
    "#     train_X_selected = train_X_pca[:, selected_feature_indices]\n",
    "#     valid_X_selected = valid_X_pca[:, selected_feature_indices]\n",
    "\n",
    "    if label == LABELS[2]:\n",
    "        model= LogisticRegression(class_weight=class_weight_dict)\n",
    "        param_grid = {\n",
    "            'penalty': ['l1', 'l2'],\n",
    "            'C': [100, 10, 1.0, 0.1, 0.01],\n",
    "            'solver': ['newton-cg', 'lbfgs', 'liblinear']\n",
    "        }\n",
    "\n",
    "    else:\n",
    "        model= SVC(class_weight=class_weight_dict)\n",
    "        param_grid = {\n",
    "                'C':  [50, 10, 1.0, 0.1, 0.01],\n",
    "                'kernel': ['linear', 'poly', 'rbf', 'sigmoid'],\n",
    "                'gamma': ['scale', 'auto']\n",
    "            }\n",
    "    random_search = RandomizedSearchCV(\n",
    "    estimator=model, param_distributions=param_grid,\n",
    "    n_iter=20, cv=3, verbose=2, random_state=42, n_jobs=-1)\n",
    "\n",
    "\n",
    "    random_search.fit(train_X_selected,train_y)\n",
    "    best_model_estimater = random_search.best_estimator_\n",
    "    best_params = random_search.best_params_\n",
    "\n",
    "\n",
    "    print(f\"{label} with param : {best_params}\")\n",
    "\n",
    "    # Evaluate the model on the validation set\n",
    "    valid_pred = best_model_estimater.predict(valid_X_selected)\n",
    "    accuracy = accuracy_score(valid_y, valid_pred)\n",
    "    print(f\"Validation Accuracy for {label} : {accuracy}\")\n",
    "\n",
    "    # Store the trained model in the dictionary\n",
    "    models[label] = best_model_estimater\n",
    "    random_searches[label] = random_search\n",
    "    pcas[label] = pca\n",
    "    k_bests[label] = k_best\n",
    "\n",
    "\n",
    "    test_X = test_df.drop(columns=[\"ID\"])\n",
    "    test_X_scaled = scaler.transform(test_X)\n",
    "    test_X_pca = pca.transform(test_X_scaled)\n",
    "#     test_X_selected = test_X_pca[:, selected_feature_indices]\n",
    "    test_X_selected = k_best.transform(test_X_pca)\n",
    "\n",
    "    test_predictions[label] = best_model_estimater.predict(test_X_selected)\n",
    "\n"
   ]
  },
  {
   "cell_type": "code",
   "execution_count": null,
   "id": "d64668b8",
   "metadata": {},
   "outputs": [],
   "source": [
    "# Create a DataFrame with the predictions\n",
    "submission_df = pd.DataFrame(test_predictions)\n",
    "\n",
    "# Save the DataFrame to a CSV file with the modified index\n",
    "submission_df.index += 1\n",
    "submission_df.index.name = \"ID\"\n",
    "submission_df.to_csv(\"submission.csv\")"
   ]
  }
 ],
 "metadata": {
  "kernelspec": {
   "display_name": "Python 3",
   "language": "python",
   "name": "python3"
  },
  "language_info": {
   "codemirror_mode": {
    "name": "ipython",
    "version": 3
   },
   "file_extension": ".py",
   "mimetype": "text/x-python",
   "name": "python",
   "nbconvert_exporter": "python",
   "pygments_lexer": "ipython3",
   "version": "3.10.12"
  },
  "papermill": {
   "default_parameters": {},
   "duration": 5969.371968,
   "end_time": "2023-09-24T07:55:10.306548",
   "environment_variables": {},
   "exception": null,
   "input_path": "__notebook__.ipynb",
   "output_path": "__notebook__.ipynb",
   "parameters": {},
   "start_time": "2023-09-24T06:15:40.934580",
   "version": "2.4.0"
  }
 },
 "nbformat": 4,
 "nbformat_minor": 5
}
